{
 "cells": [
  {
   "cell_type": "code",
   "execution_count": 1,
   "metadata": {
    "_cell_guid": "b1076dfc-b9ad-4769-8c92-a6c4dae69d19",
    "_uuid": "8f2839f25d086af736a60e9eeb907d3b93b6e0e5",
    "execution": {
     "iopub.execute_input": "2023-10-31T13:31:23.691314Z",
     "iopub.status.busy": "2023-10-31T13:31:23.690958Z",
     "iopub.status.idle": "2023-10-31T13:31:39.363087Z",
     "shell.execute_reply": "2023-10-31T13:31:39.362109Z",
     "shell.execute_reply.started": "2023-10-31T13:31:23.691283Z"
    }
   },
   "outputs": [
    {
     "name": "stderr",
     "output_type": "stream",
     "text": [
      "/opt/conda/lib/python3.10/site-packages/scipy/__init__.py:146: UserWarning: A NumPy version >=1.16.5 and <1.23.0 is required for this version of SciPy (detected version 1.23.5\n",
      "  warnings.warn(f\"A NumPy version >={np_minversion} and <{np_maxversion}\"\n"
     ]
    }
   ],
   "source": [
    "# import necessary libraries for pre-processing\n",
    "import numpy as np\n",
    "import pandas as pd\n",
    "from nltk import word_tokenize\n",
    "from sklearn.feature_extraction.text import TfidfVectorizer\n",
    "from sklearn.preprocessing import LabelEncoder\n",
    "from imblearn.over_sampling import SMOTE\n",
    "\n",
    "# import necessary libraries for data visualization\n",
    "import matplotlib.pyplot as plt\n",
    "import seaborn as sns\n",
    "\n",
    "# import necessary libraries for modeling\n",
    "from sklearn.model_selection import train_test_split\n",
    "from sklearn.linear_model import LogisticRegression\n",
    "import torch\n",
    "import transformers\n",
    "from transformers import BertTokenizer, BertForSequenceClassification, AdamW\n",
    "\n",
    "# import necessary modules for model evaluation\n",
    "from sklearn.metrics import classification_report, confusion_matrix, accuracy_score, f1_score, recall_score"
   ]
  },
  {
   "cell_type": "code",
   "execution_count": 2,
   "metadata": {
    "execution": {
     "iopub.execute_input": "2023-10-31T13:31:39.365093Z",
     "iopub.status.busy": "2023-10-31T13:31:39.364828Z",
     "iopub.status.idle": "2023-10-31T13:31:41.363605Z",
     "shell.execute_reply": "2023-10-31T13:31:41.362664Z",
     "shell.execute_reply.started": "2023-10-31T13:31:39.365069Z"
    }
   },
   "outputs": [
    {
     "data": {
      "text/html": [
       "<div>\n",
       "<style scoped>\n",
       "    .dataframe tbody tr th:only-of-type {\n",
       "        vertical-align: middle;\n",
       "    }\n",
       "\n",
       "    .dataframe tbody tr th {\n",
       "        vertical-align: top;\n",
       "    }\n",
       "\n",
       "    .dataframe thead th {\n",
       "        text-align: right;\n",
       "    }\n",
       "</style>\n",
       "<table border=\"1\" class=\"dataframe\">\n",
       "  <thead>\n",
       "    <tr style=\"text-align: right;\">\n",
       "      <th></th>\n",
       "      <th>id</th>\n",
       "      <th>category</th>\n",
       "      <th>poet_name</th>\n",
       "      <th>poem_title</th>\n",
       "      <th>poem_text</th>\n",
       "    </tr>\n",
       "  </thead>\n",
       "  <tbody>\n",
       "    <tr>\n",
       "      <th>0</th>\n",
       "      <td>0</td>\n",
       "      <td>الإمارات</td>\n",
       "      <td>خلفان بن مصبح</td>\n",
       "      <td>بدت تختال في حُلل الجمالِ</td>\n",
       "      <td>بدت تختال في حُلل الجمالِ\\nوجادت بالزيارة والو...</td>\n",
       "    </tr>\n",
       "    <tr>\n",
       "      <th>1</th>\n",
       "      <td>1</td>\n",
       "      <td>الإمارات</td>\n",
       "      <td>خلفان بن مصبح</td>\n",
       "      <td>يا طائر الشعر القرير</td>\n",
       "      <td>يا طائر الشعر القرير\\nيا وحي إلهام الصدور\\nأسع...</td>\n",
       "    </tr>\n",
       "    <tr>\n",
       "      <th>2</th>\n",
       "      <td>2</td>\n",
       "      <td>الإمارات</td>\n",
       "      <td>خلفان بن مصبح</td>\n",
       "      <td>بنت حجرات أرى من عجب</td>\n",
       "      <td>بنت حجرات أرى من عجب\\nأن أرى فيك جمال العرب\\nد...</td>\n",
       "    </tr>\n",
       "    <tr>\n",
       "      <th>3</th>\n",
       "      <td>3</td>\n",
       "      <td>الإمارات</td>\n",
       "      <td>خلفان بن مصبح</td>\n",
       "      <td>هذا الربيع بنور الحسن وافانا</td>\n",
       "      <td>هذا الربيع بنور الحسن وافانا\\nوقد كسا الأرض با...</td>\n",
       "    </tr>\n",
       "    <tr>\n",
       "      <th>4</th>\n",
       "      <td>4</td>\n",
       "      <td>الإمارات</td>\n",
       "      <td>خلفان بن مصبح</td>\n",
       "      <td>روحي فداك وإن مُنحتُ صدوداً</td>\n",
       "      <td>روحي فداك وإن مُنحتُ صدوداً\\nأخفاك ما بي أم أط...</td>\n",
       "    </tr>\n",
       "  </tbody>\n",
       "</table>\n",
       "</div>"
      ],
      "text/plain": [
       "   id  category      poet_name                    poem_title  \\\n",
       "0   0  الإمارات  خلفان بن مصبح     بدت تختال في حُلل الجمالِ   \n",
       "1   1  الإمارات  خلفان بن مصبح          يا طائر الشعر القرير   \n",
       "2   2  الإمارات  خلفان بن مصبح          بنت حجرات أرى من عجب   \n",
       "3   3  الإمارات  خلفان بن مصبح  هذا الربيع بنور الحسن وافانا   \n",
       "4   4  الإمارات  خلفان بن مصبح   روحي فداك وإن مُنحتُ صدوداً   \n",
       "\n",
       "                                           poem_text  \n",
       "0  بدت تختال في حُلل الجمالِ\\nوجادت بالزيارة والو...  \n",
       "1  يا طائر الشعر القرير\\nيا وحي إلهام الصدور\\nأسع...  \n",
       "2  بنت حجرات أرى من عجب\\nأن أرى فيك جمال العرب\\nد...  \n",
       "3  هذا الربيع بنور الحسن وافانا\\nوقد كسا الأرض با...  \n",
       "4  روحي فداك وإن مُنحتُ صدوداً\\nأخفاك ما بي أم أط...  "
      ]
     },
     "execution_count": 2,
     "metadata": {},
     "output_type": "execute_result"
    }
   ],
   "source": [
    "ar_poems = pd.read_csv(\"/kaggle/input/arabic-poetry/Arabic_poetry_dataset.csv\")\n",
    "ar_poems.head()"
   ]
  },
  {
   "cell_type": "code",
   "execution_count": 3,
   "metadata": {
    "execution": {
     "iopub.execute_input": "2023-10-31T13:31:41.366742Z",
     "iopub.status.busy": "2023-10-31T13:31:41.366442Z",
     "iopub.status.idle": "2023-10-31T13:31:41.412331Z",
     "shell.execute_reply": "2023-10-31T13:31:41.411397Z",
     "shell.execute_reply.started": "2023-10-31T13:31:41.366689Z"
    }
   },
   "outputs": [
    {
     "name": "stdout",
     "output_type": "stream",
     "text": [
      "dataset exploration:\n",
      "\n",
      "\n",
      "<class 'pandas.core.frame.DataFrame'>\n",
      "RangeIndex: 54944 entries, 0 to 54943\n",
      "Data columns (total 5 columns):\n",
      " #   Column      Non-Null Count  Dtype \n",
      "---  ------      --------------  ----- \n",
      " 0   id          54944 non-null  int64 \n",
      " 1   category    54944 non-null  object\n",
      " 2   poet_name   54944 non-null  object\n",
      " 3   poem_title  54944 non-null  object\n",
      " 4   poem_text   54944 non-null  object\n",
      "dtypes: int64(1), object(4)\n",
      "memory usage: 2.1+ MB\n",
      "None\n"
     ]
    }
   ],
   "source": [
    "print('dataset exploration:\\n\\n')\n",
    "print(ar_poems.info())"
   ]
  },
  {
   "cell_type": "code",
   "execution_count": 4,
   "metadata": {
    "execution": {
     "iopub.execute_input": "2023-10-31T13:31:41.414865Z",
     "iopub.status.busy": "2023-10-31T13:31:41.414567Z",
     "iopub.status.idle": "2023-10-31T13:31:41.424532Z",
     "shell.execute_reply": "2023-10-31T13:31:41.423591Z",
     "shell.execute_reply.started": "2023-10-31T13:31:41.414840Z"
    }
   },
   "outputs": [],
   "source": [
    "# drop useless columns \n",
    "ar_poems = ar_poems.drop(columns=['id'])"
   ]
  },
  {
   "cell_type": "code",
   "execution_count": 5,
   "metadata": {
    "execution": {
     "iopub.execute_input": "2023-10-31T13:31:41.426026Z",
     "iopub.status.busy": "2023-10-31T13:31:41.425640Z",
     "iopub.status.idle": "2023-10-31T13:31:41.468216Z",
     "shell.execute_reply": "2023-10-31T13:31:41.467193Z",
     "shell.execute_reply.started": "2023-10-31T13:31:41.425974Z"
    }
   },
   "outputs": [
    {
     "name": "stdout",
     "output_type": "stream",
     "text": [
      "dataset exploration: Final Form\n",
      "\n",
      "\n",
      "<class 'pandas.core.frame.DataFrame'>\n",
      "RangeIndex: 54944 entries, 0 to 54943\n",
      "Data columns (total 4 columns):\n",
      " #   Column      Non-Null Count  Dtype \n",
      "---  ------      --------------  ----- \n",
      " 0   category    54944 non-null  object\n",
      " 1   poet_name   54944 non-null  object\n",
      " 2   poem_title  54944 non-null  object\n",
      " 3   poem_text   54944 non-null  object\n",
      "dtypes: object(4)\n",
      "memory usage: 1.7+ MB\n",
      "None\n"
     ]
    }
   ],
   "source": [
    "print('dataset exploration: Final Form\\n\\n')\n",
    "print(ar_poems.info())"
   ]
  },
  {
   "cell_type": "code",
   "execution_count": 6,
   "metadata": {
    "execution": {
     "iopub.execute_input": "2023-10-31T13:31:41.469683Z",
     "iopub.status.busy": "2023-10-31T13:31:41.469443Z",
     "iopub.status.idle": "2023-10-31T13:31:41.479688Z",
     "shell.execute_reply": "2023-10-31T13:31:41.478770Z",
     "shell.execute_reply.started": "2023-10-31T13:31:41.469661Z"
    }
   },
   "outputs": [
    {
     "data": {
      "text/html": [
       "<div>\n",
       "<style scoped>\n",
       "    .dataframe tbody tr th:only-of-type {\n",
       "        vertical-align: middle;\n",
       "    }\n",
       "\n",
       "    .dataframe tbody tr th {\n",
       "        vertical-align: top;\n",
       "    }\n",
       "\n",
       "    .dataframe thead th {\n",
       "        text-align: right;\n",
       "    }\n",
       "</style>\n",
       "<table border=\"1\" class=\"dataframe\">\n",
       "  <thead>\n",
       "    <tr style=\"text-align: right;\">\n",
       "      <th></th>\n",
       "      <th>category</th>\n",
       "      <th>poet_name</th>\n",
       "      <th>poem_title</th>\n",
       "      <th>poem_text</th>\n",
       "    </tr>\n",
       "  </thead>\n",
       "  <tbody>\n",
       "    <tr>\n",
       "      <th>0</th>\n",
       "      <td>الإمارات</td>\n",
       "      <td>خلفان بن مصبح</td>\n",
       "      <td>بدت تختال في حُلل الجمالِ</td>\n",
       "      <td>بدت تختال في حُلل الجمالِ\\nوجادت بالزيارة والو...</td>\n",
       "    </tr>\n",
       "    <tr>\n",
       "      <th>1</th>\n",
       "      <td>الإمارات</td>\n",
       "      <td>خلفان بن مصبح</td>\n",
       "      <td>يا طائر الشعر القرير</td>\n",
       "      <td>يا طائر الشعر القرير\\nيا وحي إلهام الصدور\\nأسع...</td>\n",
       "    </tr>\n",
       "    <tr>\n",
       "      <th>2</th>\n",
       "      <td>الإمارات</td>\n",
       "      <td>خلفان بن مصبح</td>\n",
       "      <td>بنت حجرات أرى من عجب</td>\n",
       "      <td>بنت حجرات أرى من عجب\\nأن أرى فيك جمال العرب\\nد...</td>\n",
       "    </tr>\n",
       "    <tr>\n",
       "      <th>3</th>\n",
       "      <td>الإمارات</td>\n",
       "      <td>خلفان بن مصبح</td>\n",
       "      <td>هذا الربيع بنور الحسن وافانا</td>\n",
       "      <td>هذا الربيع بنور الحسن وافانا\\nوقد كسا الأرض با...</td>\n",
       "    </tr>\n",
       "    <tr>\n",
       "      <th>4</th>\n",
       "      <td>الإمارات</td>\n",
       "      <td>خلفان بن مصبح</td>\n",
       "      <td>روحي فداك وإن مُنحتُ صدوداً</td>\n",
       "      <td>روحي فداك وإن مُنحتُ صدوداً\\nأخفاك ما بي أم أط...</td>\n",
       "    </tr>\n",
       "  </tbody>\n",
       "</table>\n",
       "</div>"
      ],
      "text/plain": [
       "   category      poet_name                    poem_title  \\\n",
       "0  الإمارات  خلفان بن مصبح     بدت تختال في حُلل الجمالِ   \n",
       "1  الإمارات  خلفان بن مصبح          يا طائر الشعر القرير   \n",
       "2  الإمارات  خلفان بن مصبح          بنت حجرات أرى من عجب   \n",
       "3  الإمارات  خلفان بن مصبح  هذا الربيع بنور الحسن وافانا   \n",
       "4  الإمارات  خلفان بن مصبح   روحي فداك وإن مُنحتُ صدوداً   \n",
       "\n",
       "                                           poem_text  \n",
       "0  بدت تختال في حُلل الجمالِ\\nوجادت بالزيارة والو...  \n",
       "1  يا طائر الشعر القرير\\nيا وحي إلهام الصدور\\nأسع...  \n",
       "2  بنت حجرات أرى من عجب\\nأن أرى فيك جمال العرب\\nد...  \n",
       "3  هذا الربيع بنور الحسن وافانا\\nوقد كسا الأرض با...  \n",
       "4  روحي فداك وإن مُنحتُ صدوداً\\nأخفاك ما بي أم أط...  "
      ]
     },
     "execution_count": 6,
     "metadata": {},
     "output_type": "execute_result"
    }
   ],
   "source": [
    "ar_poems.head()"
   ]
  },
  {
   "cell_type": "code",
   "execution_count": 7,
   "metadata": {
    "execution": {
     "iopub.execute_input": "2023-10-31T13:31:41.481174Z",
     "iopub.status.busy": "2023-10-31T13:31:41.480896Z",
     "iopub.status.idle": "2023-10-31T13:31:41.504344Z",
     "shell.execute_reply": "2023-10-31T13:31:41.503430Z",
     "shell.execute_reply.started": "2023-10-31T13:31:41.481149Z"
    }
   },
   "outputs": [
    {
     "data": {
      "text/plain": [
       "array(['الإمارات', 'البحرين', 'الجزائر', 'السعودية', 'السودان', 'العراق',\n",
       "       'المغرب', 'اليمن', 'تونس', 'سوريا', 'عمان', 'فلسطين', 'لبنان',\n",
       "       'ليبيا', 'مصر', 'الأردن', 'الكويت', 'قطر', 'موريتانيا',\n",
       "       'العصر الجاهلي', 'العصر الإسلامي', 'العصر العباسي',\n",
       "       'العصر الايوبي', 'العصر العثماني', 'عصر المخضرمون', 'العصر الاموي',\n",
       "       'العصر الأندلسي', 'العصر المملوكي'], dtype=object)"
      ]
     },
     "execution_count": 7,
     "metadata": {},
     "output_type": "execute_result"
    }
   ],
   "source": [
    "# explore unique categories in the dataset\n",
    "ar_poems.category.unique()"
   ]
  },
  {
   "cell_type": "code",
   "execution_count": 8,
   "metadata": {
    "execution": {
     "iopub.execute_input": "2023-10-31T13:31:41.506103Z",
     "iopub.status.busy": "2023-10-31T13:31:41.505751Z",
     "iopub.status.idle": "2023-10-31T13:31:41.538486Z",
     "shell.execute_reply": "2023-10-31T13:31:41.537719Z",
     "shell.execute_reply.started": "2023-10-31T13:31:41.506070Z"
    }
   },
   "outputs": [],
   "source": [
    "# remove the only row which misses \"poem_text\"\n",
    "ar_poems.dropna(inplace=True)"
   ]
  },
  {
   "cell_type": "code",
   "execution_count": 9,
   "metadata": {
    "execution": {
     "iopub.execute_input": "2023-10-31T13:31:41.540421Z",
     "iopub.status.busy": "2023-10-31T13:31:41.539691Z",
     "iopub.status.idle": "2023-10-31T13:31:41.550485Z",
     "shell.execute_reply": "2023-10-31T13:31:41.549580Z",
     "shell.execute_reply.started": "2023-10-31T13:31:41.540384Z"
    }
   },
   "outputs": [
    {
     "data": {
      "text/plain": [
       "['الإمارات',\n",
       " 'البحرين',\n",
       " 'الجزائر',\n",
       " 'السعودية',\n",
       " 'السودان',\n",
       " 'العراق',\n",
       " 'المغرب',\n",
       " 'اليمن',\n",
       " 'تونس',\n",
       " 'سوريا',\n",
       " 'عمان',\n",
       " 'فلسطين',\n",
       " 'لبنان',\n",
       " 'ليبيا',\n",
       " 'مصر',\n",
       " 'الأردن',\n",
       " 'الكويت',\n",
       " 'قطر',\n",
       " 'موريتانيا',\n",
       " 'شعراء العراق والشام',\n",
       " 'أفغانستان',\n",
       " 'إيران']"
      ]
     },
     "execution_count": 9,
     "metadata": {},
     "output_type": "execute_result"
    }
   ],
   "source": [
    "modern = ['الإمارات', 'البحرين', 'الجزائر', 'السعودية', 'السودان', 'العراق',\n",
    "       'المغرب', 'اليمن', 'تونس', 'سوريا', 'عمان', 'فلسطين', 'لبنان',\n",
    "       'ليبيا', 'مصر', 'الأردن', 'الكويت', 'قطر', 'موريتانيا','شعراء العراق والشام',\n",
    "       'أفغانستان', 'إيران']\n",
    "modern"
   ]
  },
  {
   "cell_type": "code",
   "execution_count": 10,
   "metadata": {
    "execution": {
     "iopub.execute_input": "2023-10-31T13:31:41.553601Z",
     "iopub.status.busy": "2023-10-31T13:31:41.553315Z",
     "iopub.status.idle": "2023-10-31T13:31:44.732317Z",
     "shell.execute_reply": "2023-10-31T13:31:44.731475Z",
     "shell.execute_reply.started": "2023-10-31T13:31:41.553578Z"
    }
   },
   "outputs": [],
   "source": [
    "# merge the 22 different countries categories as 'العصر الحديث' category\n",
    "for i in range(len(ar_poems)):\n",
    "    if ar_poems.iloc[i]['category'] in modern:\n",
    "        ar_poems.iloc[i]['category'] = 'العصر الحديث'"
   ]
  },
  {
   "cell_type": "code",
   "execution_count": 11,
   "metadata": {
    "execution": {
     "iopub.execute_input": "2023-10-31T13:31:44.733662Z",
     "iopub.status.busy": "2023-10-31T13:31:44.733377Z",
     "iopub.status.idle": "2023-10-31T13:31:44.746355Z",
     "shell.execute_reply": "2023-10-31T13:31:44.745236Z",
     "shell.execute_reply.started": "2023-10-31T13:31:44.733636Z"
    }
   },
   "outputs": [
    {
     "data": {
      "text/plain": [
       "array(['العصر الحديث', 'العصر الجاهلي', 'العصر الإسلامي', 'العصر العباسي',\n",
       "       'العصر الايوبي', 'العصر العثماني', 'عصر المخضرمون', 'العصر الاموي',\n",
       "       'العصر الأندلسي', 'العصر المملوكي'], dtype=object)"
      ]
     },
     "execution_count": 11,
     "metadata": {},
     "output_type": "execute_result"
    }
   ],
   "source": [
    "ar_poems.category.unique()"
   ]
  },
  {
   "cell_type": "code",
   "execution_count": 12,
   "metadata": {
    "execution": {
     "iopub.execute_input": "2023-10-31T13:31:44.748130Z",
     "iopub.status.busy": "2023-10-31T13:31:44.747788Z",
     "iopub.status.idle": "2023-10-31T13:31:44.782075Z",
     "shell.execute_reply": "2023-10-31T13:31:44.781020Z",
     "shell.execute_reply.started": "2023-10-31T13:31:44.748099Z"
    }
   },
   "outputs": [
    {
     "name": "stdout",
     "output_type": "stream",
     "text": [
      "<class 'pandas.core.frame.DataFrame'>\n",
      "RangeIndex: 54944 entries, 0 to 54943\n",
      "Data columns (total 4 columns):\n",
      " #   Column      Non-Null Count  Dtype \n",
      "---  ------      --------------  ----- \n",
      " 0   category    54944 non-null  object\n",
      " 1   poet_name   54944 non-null  object\n",
      " 2   poem_title  54944 non-null  object\n",
      " 3   poem_text   54944 non-null  object\n",
      "dtypes: object(4)\n",
      "memory usage: 1.7+ MB\n"
     ]
    }
   ],
   "source": [
    "ar_poems.info()"
   ]
  },
  {
   "cell_type": "code",
   "execution_count": 13,
   "metadata": {
    "execution": {
     "iopub.execute_input": "2023-10-31T13:31:44.783430Z",
     "iopub.status.busy": "2023-10-31T13:31:44.783142Z",
     "iopub.status.idle": "2023-10-31T13:31:44.799243Z",
     "shell.execute_reply": "2023-10-31T13:31:44.798180Z",
     "shell.execute_reply.started": "2023-10-31T13:31:44.783403Z"
    }
   },
   "outputs": [
    {
     "data": {
      "text/plain": [
       "category\n",
       "العصر الحديث      13409\n",
       "العصر العباسي     10116\n",
       "العصر المملوكي     9058\n",
       "العصر الايوبي      6069\n",
       "العصر العثماني     4622\n",
       "العصر الاموي       4314\n",
       "العصر الأندلسي     3238\n",
       "عصر المخضرمون      2028\n",
       "العصر الجاهلي      1878\n",
       "العصر الإسلامي      212\n",
       "Name: count, dtype: int64"
      ]
     },
     "execution_count": 13,
     "metadata": {},
     "output_type": "execute_result"
    }
   ],
   "source": [
    "ar_poems.category.value_counts()"
   ]
  },
  {
   "cell_type": "code",
   "execution_count": 14,
   "metadata": {
    "execution": {
     "iopub.execute_input": "2023-10-31T13:31:44.800853Z",
     "iopub.status.busy": "2023-10-31T13:31:44.800540Z",
     "iopub.status.idle": "2023-10-31T13:31:44.810094Z",
     "shell.execute_reply": "2023-10-31T13:31:44.809072Z",
     "shell.execute_reply.started": "2023-10-31T13:31:44.800826Z"
    }
   },
   "outputs": [
    {
     "data": {
      "text/plain": [
       "'إذا كان صد منكموا قد بدا لنا\\nبلا موجبٍ في القرب والبعد أجدر\\nحفظنا وضيعتم ودمنا وزلتموا\\nفكونوا كما شئتم فما نتغيى\\nحرام علينا الصد عنكم وهجركم\\nلأنا أناس في الهوى ليس نغدر'"
      ]
     },
     "execution_count": 14,
     "metadata": {},
     "output_type": "execute_result"
    }
   ],
   "source": [
    "ar_poems['poem_text'].loc[100]"
   ]
  },
  {
   "cell_type": "code",
   "execution_count": 15,
   "metadata": {
    "execution": {
     "iopub.execute_input": "2023-10-31T13:31:44.811561Z",
     "iopub.status.busy": "2023-10-31T13:31:44.811278Z",
     "iopub.status.idle": "2023-10-31T13:33:10.447189Z",
     "shell.execute_reply": "2023-10-31T13:33:10.446072Z",
     "shell.execute_reply.started": "2023-10-31T13:31:44.811526Z"
    }
   },
   "outputs": [
    {
     "name": "stdout",
     "output_type": "stream",
     "text": [
      "              precision    recall  f1-score   support\n",
      "\n",
      "           0       0.66      0.22      0.33       598\n",
      "           1       0.00      0.00      0.00        37\n",
      "           2       0.52      0.45      0.48       846\n",
      "           3       0.53      0.34      0.42      1237\n",
      "           4       0.50      0.15      0.23       378\n",
      "           5       0.56      0.82      0.67      2710\n",
      "           6       0.43      0.59      0.50      1999\n",
      "           7       0.68      0.25      0.36       977\n",
      "           8       0.45      0.49      0.47      1808\n",
      "           9       0.39      0.12      0.19       399\n",
      "\n",
      "    accuracy                           0.51     10989\n",
      "   macro avg       0.47      0.34      0.36     10989\n",
      "weighted avg       0.52      0.51      0.48     10989\n",
      "\n"
     ]
    },
    {
     "name": "stderr",
     "output_type": "stream",
     "text": [
      "/opt/conda/lib/python3.10/site-packages/sklearn/linear_model/_logistic.py:458: ConvergenceWarning: lbfgs failed to converge (status=1):\n",
      "STOP: TOTAL NO. of ITERATIONS REACHED LIMIT.\n",
      "\n",
      "Increase the number of iterations (max_iter) or scale the data as shown in:\n",
      "    https://scikit-learn.org/stable/modules/preprocessing.html\n",
      "Please also refer to the documentation for alternative solver options:\n",
      "    https://scikit-learn.org/stable/modules/linear_model.html#logistic-regression\n",
      "  n_iter_i = _check_optimize_result(\n",
      "/opt/conda/lib/python3.10/site-packages/sklearn/metrics/_classification.py:1344: UndefinedMetricWarning: Precision and F-score are ill-defined and being set to 0.0 in labels with no predicted samples. Use `zero_division` parameter to control this behavior.\n",
      "  _warn_prf(average, modifier, msg_start, len(result))\n",
      "/opt/conda/lib/python3.10/site-packages/sklearn/metrics/_classification.py:1344: UndefinedMetricWarning: Precision and F-score are ill-defined and being set to 0.0 in labels with no predicted samples. Use `zero_division` parameter to control this behavior.\n",
      "  _warn_prf(average, modifier, msg_start, len(result))\n",
      "/opt/conda/lib/python3.10/site-packages/sklearn/metrics/_classification.py:1344: UndefinedMetricWarning: Precision and F-score are ill-defined and being set to 0.0 in labels with no predicted samples. Use `zero_division` parameter to control this behavior.\n",
      "  _warn_prf(average, modifier, msg_start, len(result))\n"
     ]
    }
   ],
   "source": [
    "# Load the dataset\n",
    "df = ar_poems\n",
    "\n",
    "# Split the data into train and test sets\n",
    "X_train, X_test, y_train, y_test = train_test_split(df['poem_text'], df['category'], test_size=0.2, random_state=42)\n",
    "\n",
    "# Encode target variable\n",
    "label_encoder = LabelEncoder()\n",
    "y_train = label_encoder.fit_transform(y_train)\n",
    "y_test = label_encoder.fit_transform(y_test)\n",
    "\n",
    "# Vectorize the text data using TF-IDF\n",
    "vectorizer = TfidfVectorizer()\n",
    "X_train_vec = vectorizer.fit_transform(X_train)\n",
    "X_test_vec = vectorizer.transform(X_test)\n",
    "\n",
    "# Train a logistic regression model\n",
    "model = LogisticRegression()\n",
    "model.fit(X_train_vec, y_train)\n",
    "\n",
    "# Predict the categories of the test data\n",
    "y_pred = model.predict(X_test_vec)\n",
    "\n",
    "# Evaluate the performance of the model\n",
    "print(classification_report(y_test, y_pred))"
   ]
  },
  {
   "cell_type": "code",
   "execution_count": 16,
   "metadata": {
    "execution": {
     "iopub.execute_input": "2023-10-31T13:33:10.449215Z",
     "iopub.status.busy": "2023-10-31T13:33:10.448557Z",
     "iopub.status.idle": "2023-10-31T13:33:10.472564Z",
     "shell.execute_reply": "2023-10-31T13:33:10.471495Z",
     "shell.execute_reply.started": "2023-10-31T13:33:10.449175Z"
    }
   },
   "outputs": [
    {
     "name": "stdout",
     "output_type": "stream",
     "text": [
      "Accuracy: 0.5063245063245063\n",
      "F1 Score: 0.48070421230330057\n",
      "Recall: 0.5063245063245063\n"
     ]
    }
   ],
   "source": [
    "# calculate and print various evaluation metrics\n",
    "accuracy = accuracy_score(y_test, y_pred)\n",
    "f_score = f1_score(y_test, y_pred, average='weighted')\n",
    "recall = recall_score(y_test, y_pred, average='weighted')\n",
    "print(f\"Accuracy: {accuracy}\")\n",
    "print(f\"F1 Score: {f_score}\")\n",
    "print(f\"Recall: {recall}\")"
   ]
  },
  {
   "cell_type": "code",
   "execution_count": 17,
   "metadata": {
    "execution": {
     "iopub.execute_input": "2023-10-31T13:33:10.474193Z",
     "iopub.status.busy": "2023-10-31T13:33:10.473837Z",
     "iopub.status.idle": "2023-10-31T13:33:10.490579Z",
     "shell.execute_reply": "2023-10-31T13:33:10.489491Z",
     "shell.execute_reply.started": "2023-10-31T13:33:10.474158Z"
    }
   },
   "outputs": [
    {
     "name": "stdout",
     "output_type": "stream",
     "text": [
      "The predicted category for the poem is: العصر الحديث\n"
     ]
    }
   ],
   "source": [
    "import pandas as pd\n",
    "from sklearn.feature_extraction.text import TfidfVectorizer\n",
    "from sklearn.linear_model import LogisticRegression\n",
    "from sklearn.preprocessing import LabelEncoder\n",
    "\n",
    "# Assuming you have already loaded and preprocessed the data as shown in your code\n",
    "\n",
    "# Function to predict the category of a poem\n",
    "def predict_poem_category(poem_text):\n",
    "    # Preprocess the input poem\n",
    "    poem_vec = vectorizer.transform([poem_text])\n",
    "    \n",
    "    # Predict the category\n",
    "    category_index = model.predict(poem_vec)[0]\n",
    "    \n",
    "    # Convert the category index back to its original label\n",
    "    predicted_category = label_encoder.inverse_transform([category_index])[0]\n",
    "    \n",
    "    return predicted_category\n",
    "\n",
    "# Example usage\n",
    "input_poem = \"يا طائر الشعر القرير\"\n",
    "predicted_category = predict_poem_category(input_poem)\n",
    "print(f\"The predicted category for the poem is: {predicted_category}\")\n",
    "\n"
   ]
  },
  {
   "cell_type": "code",
   "execution_count": 18,
   "metadata": {
    "execution": {
     "iopub.execute_input": "2023-10-31T13:45:37.513055Z",
     "iopub.status.busy": "2023-10-31T13:45:37.512676Z",
     "iopub.status.idle": "2023-10-31T13:45:37.528880Z",
     "shell.execute_reply": "2023-10-31T13:45:37.527945Z",
     "shell.execute_reply.started": "2023-10-31T13:45:37.513027Z"
    }
   },
   "outputs": [
    {
     "name": "stdout",
     "output_type": "stream",
     "text": [
      "The predicted category for the poem is: العصر العباسي\n"
     ]
    }
   ],
   "source": [
    "import pandas as pd\n",
    "from sklearn.feature_extraction.text import TfidfVectorizer\n",
    "from sklearn.linear_model import LogisticRegression\n",
    "from sklearn.preprocessing import LabelEncoder\n",
    "\n",
    "\n",
    "\n",
    "# Function to predict the category of a poem\n",
    "def predict_poem_category(poem_text):\n",
    "    # Preprocess the input poem\n",
    "    poem_vec = vectorizer.transform([poem_text])\n",
    "    \n",
    "    # Predict the category\n",
    "    category_index = model.predict(poem_vec)[0]\n",
    "    \n",
    "    # Convert the category index back to its original label\n",
    "    predicted_category = label_encoder.inverse_transform([category_index])[0]\n",
    "    \n",
    "    return predicted_category\n",
    "\n",
    "# Example usage\n",
    "input_poem = \"ليكفك حاسدا حسده\"\n",
    "predicted_category = predict_poem_category(input_poem)\n",
    "print(f\"The predicted category for the poem is: {predicted_category}\")\n",
    "\n"
   ]
  },
  {
   "cell_type": "code",
   "execution_count": 19,
   "metadata": {
    "execution": {
     "iopub.execute_input": "2023-10-31T13:47:29.364197Z",
     "iopub.status.busy": "2023-10-31T13:47:29.363817Z",
     "iopub.status.idle": "2023-10-31T13:47:29.379653Z",
     "shell.execute_reply": "2023-10-31T13:47:29.378760Z",
     "shell.execute_reply.started": "2023-10-31T13:47:29.364172Z"
    }
   },
   "outputs": [
    {
     "name": "stdout",
     "output_type": "stream",
     "text": [
      "The predicted category for the poem is: العصر الحديث\n"
     ]
    }
   ],
   "source": [
    "import pandas as pd\n",
    "from sklearn.feature_extraction.text import TfidfVectorizer\n",
    "from sklearn.linear_model import LogisticRegression\n",
    "from sklearn.preprocessing import LabelEncoder\n",
    "\n",
    "# Assuming you have already loaded and preprocessed the data as shown in your code\n",
    "\n",
    "# Function to predict the category of a poem\n",
    "def predict_poem_category(poem_text):\n",
    "    # Preprocess the input poem\n",
    "    poem_vec = vectorizer.transform([poem_text])\n",
    "    \n",
    "    # Predict the category\n",
    "    category_index = model.predict(poem_vec)[0]\n",
    "    \n",
    "    # Convert the category index back to its original label\n",
    "    predicted_category = label_encoder.inverse_transform([category_index])[0]\n",
    "    \n",
    "    return predicted_category\n",
    "\n",
    "# Example usage\n",
    "input_poem = \"لو كنت فينا ولها مغرما\"\n",
    "predicted_category = predict_poem_category(input_poem)\n",
    "print(f\"The predicted category for the poem is: {predicted_category}\")\n",
    "\n"
   ]
  },
  {
   "cell_type": "code",
   "execution_count": 20,
   "metadata": {
    "execution": {
     "iopub.execute_input": "2023-10-31T13:47:59.053442Z",
     "iopub.status.busy": "2023-10-31T13:47:59.053071Z",
     "iopub.status.idle": "2023-10-31T13:47:59.088673Z",
     "shell.execute_reply": "2023-10-31T13:47:59.087911Z",
     "shell.execute_reply.started": "2023-10-31T13:47:59.053412Z"
    }
   },
   "outputs": [],
   "source": [
    "import pickle\n",
    "\n",
    "# Save the model to a file\n",
    "with open('poem_category_model.pkl', 'wb') as file:\n",
    "    pickle.dump(model, file)\n"
   ]
  },
  {
   "cell_type": "code",
   "execution_count": 21,
   "metadata": {
    "execution": {
     "iopub.execute_input": "2023-10-31T13:48:23.308978Z",
     "iopub.status.busy": "2023-10-31T13:48:23.308603Z",
     "iopub.status.idle": "2023-10-31T13:48:23.320361Z",
     "shell.execute_reply": "2023-10-31T13:48:23.319316Z",
     "shell.execute_reply.started": "2023-10-31T13:48:23.308948Z"
    }
   },
   "outputs": [],
   "source": [
    "\n",
    "# Load the model from a file\n",
    "with open('poem_category_model.pkl', 'rb') as file:\n",
    "    loaded_model = pickle.load(file)\n"
   ]
  }
 ],
 "metadata": {
  "kernelspec": {
   "display_name": "Python 3 (ipykernel)",
   "language": "python",
   "name": "python3"
  },
  "language_info": {
   "codemirror_mode": {
    "name": "ipython",
    "version": 3
   },
   "file_extension": ".py",
   "mimetype": "text/x-python",
   "name": "python",
   "nbconvert_exporter": "python",
   "pygments_lexer": "ipython3",
   "version": "3.9.12"
  }
 },
 "nbformat": 4,
 "nbformat_minor": 4
}
